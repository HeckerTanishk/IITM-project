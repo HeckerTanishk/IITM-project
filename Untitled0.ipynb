{
  "nbformat": 4,
  "nbformat_minor": 0,
  "metadata": {
    "colab": {
      "provenance": []
    },
    "kernelspec": {
      "name": "python3",
      "display_name": "Python 3"
    },
    "language_info": {
      "name": "python"
    }
  },
  "cells": [
    {
      "cell_type": "code",
      "execution_count": null,
      "metadata": {
        "colab": {
          "base_uri": "https://localhost:8080/"
        },
        "id": "N1fvUYA0RXYu",
        "outputId": "229bb484-aa07-49ac-b530-1562e66976ca"
      },
      "outputs": [
        {
          "output_type": "stream",
          "name": "stdout",
          "text": [
            "olleh\n"
          ]
        }
      ],
      "source": [
        "s = \"hello\"\n",
        "reversed_s = s[::-1]\n",
        "print(reversed_s)"
      ]
    },
    {
      "cell_type": "code",
      "source": [
        "s = input(\"Enter a string: \")\n",
        "print(s == s[::-1])"
      ],
      "metadata": {
        "colab": {
          "base_uri": "https://localhost:8080/"
        },
        "id": "m5tSLB9fR4cJ",
        "outputId": "f1c2d7ec-0546-495f-959a-0a4c2bf2e84e"
      },
      "execution_count": null,
      "outputs": [
        {
          "output_type": "stream",
          "name": "stdout",
          "text": [
            "Enter a string: Tanishk\n",
            "False\n"
          ]
        }
      ]
    },
    {
      "cell_type": "code",
      "source": [
        "def factorial(n):\n",
        "    if n == 0 or n == 1:\n",
        "        return 1\n",
        "    return n * factorial(n - 1)\n",
        "\n",
        "num = int(input(\"Enter a number: \"))\n",
        "print(factorial(num))"
      ],
      "metadata": {
        "colab": {
          "base_uri": "https://localhost:8080/"
        },
        "id": "XZmiplIiSpYp",
        "outputId": "f4fb108f-06c1-44b6-a595-83f623fb6edf"
      },
      "execution_count": null,
      "outputs": [
        {
          "output_type": "stream",
          "name": "stdout",
          "text": [
            "Enter a number: 5\n",
            "120\n"
          ]
        }
      ]
    },
    {
      "cell_type": "code",
      "source": [
        "n = int(input(\"Enter the number of terms: \"))\n",
        "a, b = 0, 1\n",
        "i = 0\n",
        "while i < n:\n",
        "    print(a, end=\" \")\n",
        "    a, b = b, a + b\n",
        "    i += 1"
      ],
      "metadata": {
        "colab": {
          "base_uri": "https://localhost:8080/"
        },
        "id": "yivNxYmHStEQ",
        "outputId": "6aae2acc-f9bb-42a8-fc3a-afff3b3d44e7"
      },
      "execution_count": null,
      "outputs": [
        {
          "output_type": "stream",
          "name": "stdout",
          "text": [
            "Enter the number of terms: 2\n",
            "0 1 "
          ]
        }
      ]
    },
    {
      "cell_type": "code",
      "source": [
        "n = int(input(\"Enter a number: \"))\n",
        "if n < 2:\n",
        "    print(\"Not prime\")\n",
        "else:\n",
        "    for i in range(2, int(n**0.5) + 1):\n",
        "        if n % i == 0:\n",
        "            print(\"Not prime\")\n",
        "            break\n",
        "    else:\n",
        "        print(\"Prime\")"
      ],
      "metadata": {
        "colab": {
          "base_uri": "https://localhost:8080/"
        },
        "id": "vQ3rj3ygS96Q",
        "outputId": "6edbead9-600f-46f0-c8c5-ccdc35629fba"
      },
      "execution_count": null,
      "outputs": [
        {
          "output_type": "stream",
          "name": "stdout",
          "text": [
            "Enter a number: 7\n",
            "Prime\n"
          ]
        }
      ]
    },
    {
      "cell_type": "code",
      "source": [
        "a = int(input(\"Enter first number: \"))\n",
        "b = int(input(\"Enter second number: \"))\n",
        "while b != 0:\n",
        "    a, b = b, a % b\n",
        "print(\"GCD is\", a)"
      ],
      "metadata": {
        "colab": {
          "base_uri": "https://localhost:8080/"
        },
        "id": "AOvYeMYpTHP4",
        "outputId": "d29dc24d-7b1d-4a40-87e1-06a3dd9b5c63"
      },
      "execution_count": null,
      "outputs": [
        {
          "output_type": "stream",
          "name": "stdout",
          "text": [
            "Enter first number: 2\n",
            "Enter second number: 3\n",
            "GCD is 1\n"
          ]
        }
      ]
    },
    {
      "cell_type": "code",
      "source": [
        "s = input(\"Enter a string: \")\n",
        "count = 0\n",
        "for char in s.lower():\n",
        "    if char in \"aeiou\":\n",
        "        count += 1\n",
        "print(\"Number of vowels:\", count)"
      ],
      "metadata": {
        "colab": {
          "base_uri": "https://localhost:8080/"
        },
        "id": "s6qGbyDjTSoI",
        "outputId": "e3afe514-383c-4aa9-c960-ff4a03998a03"
      },
      "execution_count": null,
      "outputs": [
        {
          "output_type": "stream",
          "name": "stdout",
          "text": [
            "Enter a string: Tanishk\n",
            "Number of vowels: 2\n"
          ]
        }
      ]
    },
    {
      "cell_type": "code",
      "source": [
        "lst = input(\"Enter elements separated by spaces: \").split()\n",
        "duplicates = set()\n",
        "seen = set()\n",
        "\n",
        "for x in lst:\n",
        "    if x in seen:\n",
        "        duplicates.add(x)\n",
        "    else:\n",
        "        seen.add(x)\n",
        "\n",
        "print(\"Duplicate elements:\", duplicates)"
      ],
      "metadata": {
        "colab": {
          "base_uri": "https://localhost:8080/"
        },
        "id": "5jjeo98ST3iI",
        "outputId": "57a5629a-b56e-4419-ef15-5db48fcd199c"
      },
      "execution_count": null,
      "outputs": [
        {
          "output_type": "stream",
          "name": "stdout",
          "text": [
            "Enter elements separated by spaces: k a n a k\n",
            "Duplicate elements: {'k', 'a'}\n"
          ]
        }
      ]
    },
    {
      "cell_type": "code",
      "source": [
        "s1 = input(\"Enter first string: \").replace(\" \", \"\").lower()\n",
        "s2 = input(\"Enter second string: \").replace(\" \", \"\").lower()\n",
        "\n",
        "print(sorted(s1) == sorted(s2))"
      ],
      "metadata": {
        "colab": {
          "base_uri": "https://localhost:8080/"
        },
        "id": "m0mLIaTOUEt4",
        "outputId": "b4e53dd5-6f5f-49dd-c5b4-da043b92e536"
      },
      "execution_count": null,
      "outputs": [
        {
          "output_type": "stream",
          "name": "stdout",
          "text": [
            "Enter first string: Tanishk\n",
            "Enter second string: Lakshay\n",
            "False\n"
          ]
        }
      ]
    },
    {
      "cell_type": "code",
      "source": [
        "a = list(map(int, input(\"Enter first sorted array: \").split()))\n",
        "b = list(map(int, input(\"Enter second sorted array: \").split()))\n",
        "\n",
        "merged = []\n",
        "i = j = 0\n",
        "\n",
        "while i < len(a) and j < len(b):\n",
        "    if a[i] < b[j]:\n",
        "        merged.append(a[i])\n",
        "        i += 1\n",
        "    else:\n",
        "        merged.append(b[j])\n",
        "        j += 1\n",
        "\n",
        "merged.extend(a[i:])\n",
        "merged.extend(b[j:])\n",
        "\n",
        "print(\"Merged array:\", merged)"
      ],
      "metadata": {
        "colab": {
          "base_uri": "https://localhost:8080/"
        },
        "id": "7ev2VtVbUnl5",
        "outputId": "93a83066-12be-4b2b-d6c3-b1dbf83206f0"
      },
      "execution_count": null,
      "outputs": [
        {
          "output_type": "stream",
          "name": "stdout",
          "text": [
            "Enter first sorted array: 3 4 5 3\n",
            "Enter second sorted array: 2\n",
            "Merged array: [2, 3, 4, 5, 3]\n"
          ]
        }
      ]
    },
    {
      "cell_type": "code",
      "source": [
        "n = int(input(\"Enter the value of n: \"))\n",
        "arr = list(map(int, input(\"Enter the numbers separated by spaces: \").split()))\n",
        "\n",
        "total = n * (n + 1) // 2\n",
        "missing = total - sum(arr)\n",
        "print(\"Missing number is\", missing)"
      ],
      "metadata": {
        "colab": {
          "base_uri": "https://localhost:8080/"
        },
        "id": "7j4kU8sUUrLg",
        "outputId": "43a3c536-9877-4e94-f05c-b0e569938a7d"
      },
      "execution_count": null,
      "outputs": [
        {
          "output_type": "stream",
          "name": "stdout",
          "text": [
            "Enter the value of n: 50\n",
            "Enter the numbers separated by spaces: 5\n",
            "Missing number is 1270\n"
          ]
        }
      ]
    },
    {
      "cell_type": "code",
      "source": [
        "n = input(\"Enter a number: \")\n",
        "num = int(n)\n",
        "power = len(n)\n",
        "total = sum(int(digit) ** power for digit in n)\n",
        "\n",
        "print(total == num)\n"
      ],
      "metadata": {
        "colab": {
          "base_uri": "https://localhost:8080/"
        },
        "id": "kcWP243rVVrQ",
        "outputId": "6a875930-1363-4ea2-af7e-75ffb86cf6a7"
      },
      "execution_count": null,
      "outputs": [
        {
          "output_type": "stream",
          "name": "stdout",
          "text": [
            "Enter a number: 5\n",
            "True\n"
          ]
        }
      ]
    },
    {
      "cell_type": "code",
      "source": [
        "s = \"The quick brown fox jumps over the lazy dog\"\n",
        "s = s.lower()\n",
        "letters = set(s)\n",
        "print(set(\"abcdefghijklmnopqrstuvwxyz\").issubset(letters))"
      ],
      "metadata": {
        "id": "mZ9ztCW1Vf9Q",
        "colab": {
          "base_uri": "https://localhost:8080/"
        },
        "outputId": "ad15abbc-970c-484d-fae8-a2d47ab177c5"
      },
      "execution_count": 1,
      "outputs": [
        {
          "output_type": "stream",
          "name": "stdout",
          "text": [
            "True\n"
          ]
        }
      ]
    },
    {
      "cell_type": "code",
      "source": [
        "lst = list(map(int, input(\"Enter numbers: \").split()))\n",
        "unique_lst = list(set(lst))\n",
        "print(unique_lst)"
      ],
      "metadata": {
        "colab": {
          "base_uri": "https://localhost:8080/"
        },
        "id": "e0_RZPl-kbFl",
        "outputId": "d2d0444f-1954-4a02-e853-6d492f3f5321"
      },
      "execution_count": 6,
      "outputs": [
        {
          "output_type": "stream",
          "name": "stdout",
          "text": [
            "Enter numbers: 4 5  6 4 5\n",
            "[4, 5, 6]\n"
          ]
        }
      ]
    },
    {
      "cell_type": "code",
      "source": [
        "lst = list(map(int, input(\"Enter numbers separated by space: \").split()))\n",
        "lst = list(set(lst))\n",
        "lst.sort()\n",
        "print(lst[-2])"
      ],
      "metadata": {
        "colab": {
          "base_uri": "https://localhost:8080/"
        },
        "id": "nMwiaO-wlXU1",
        "outputId": "75614939-11c7-4d50-a98a-6c5dd0f33d82"
      },
      "execution_count": 7,
      "outputs": [
        {
          "output_type": "stream",
          "name": "stdout",
          "text": [
            "Enter numbers separated by space: 3 4 5 6 7\n",
            "6\n"
          ]
        }
      ]
    },
    {
      "cell_type": "code",
      "source": [
        "lst = list(map(int, input(\"Enter numbers separated by space: \").split()))\n",
        "counts = {}\n",
        "for num in lst:\n",
        "    counts[num] = counts.get(num, 0) + 1\n",
        "print(counts)\n"
      ],
      "metadata": {
        "colab": {
          "base_uri": "https://localhost:8080/"
        },
        "id": "Y7zEZfa6lZ3c",
        "outputId": "4f0f0dfd-35ae-42f6-d7c7-14331d7af954"
      },
      "execution_count": 8,
      "outputs": [
        {
          "output_type": "stream",
          "name": "stdout",
          "text": [
            "Enter numbers separated by space:  4 5 6 7 2 5\n",
            "{4: 1, 5: 2, 6: 1, 7: 1, 2: 1}\n"
          ]
        }
      ]
    },
    {
      "cell_type": "code",
      "source": [
        "rows = int(input(\"Enter number of rows: \"))\n",
        "cols = int(input(\"Enter number of columns: \"))\n",
        "matrix = []\n",
        "\n",
        "for i in range(rows):\n",
        "    row = list(map(int, input().split()))\n",
        "    matrix.append(row)\n",
        "\n",
        "transpose = []\n",
        "for i in range(cols):\n",
        "    trans_row = []\n",
        "    for j in range(rows):\n",
        "        trans_row.append(matrix[j][i])\n",
        "    transpose.append(trans_row)\n",
        "\n",
        "print(transpose)"
      ],
      "metadata": {
        "colab": {
          "base_uri": "https://localhost:8080/"
        },
        "id": "ZgTgB_H1lkzM",
        "outputId": "f7dc2114-a2c1-4a2d-d0e8-34a55988596d"
      },
      "execution_count": 9,
      "outputs": [
        {
          "output_type": "stream",
          "name": "stdout",
          "text": [
            "Enter number of rows: 3\n",
            "Enter number of columns: 3\n",
            "1 2 3 \n",
            "4 5 6\n",
            "2 3 5\n",
            "[[1, 4, 2], [2, 5, 3], [3, 6, 5]]\n"
          ]
        }
      ]
    },
    {
      "cell_type": "code",
      "source": [
        "lst = list(map(int, input(\"Enter numbers separated by space: \").split()))\n",
        "target = int(input(\"Enter the number to search: \"))\n",
        "\n",
        "found = False\n",
        "for i in range(len(lst)):\n",
        "    if lst[i] == target:\n",
        "        print(\"Found at index\", i)\n",
        "        found = True\n",
        "        break\n",
        "\n",
        "if not found:\n",
        "    print(\"Not found\")"
      ],
      "metadata": {
        "colab": {
          "base_uri": "https://localhost:8080/"
        },
        "id": "sV74-VKklqGt",
        "outputId": "657bfd8b-1151-4452-ac60-231af4879963"
      },
      "execution_count": 10,
      "outputs": [
        {
          "output_type": "stream",
          "name": "stdout",
          "text": [
            "Enter numbers separated by space: 2 3 4 \n",
            "Enter the number to search: 2\n",
            "Found at index 0\n"
          ]
        }
      ]
    },
    {
      "cell_type": "code",
      "source": [
        "lst = list(map(int, input(\"Enter sorted numbers separated by space: \").split()))\n",
        "target = int(input(\"Enter the number to search: \"))\n",
        "\n",
        "low, high = 0, len(lst) - 1\n",
        "found = False\n",
        "\n",
        "while low <= high:\n",
        "    mid = (low + high) // 2\n",
        "    if lst[mid] == target:\n",
        "        print(\"Found at index\", mid)\n",
        "        found = True\n",
        "        break\n",
        "    elif lst[mid] < target:\n",
        "        low = mid + 1\n",
        "    else:\n",
        "        high = mid - 1\n",
        "\n",
        "if not found:\n",
        "    print(\"Not found\")"
      ],
      "metadata": {
        "colab": {
          "base_uri": "https://localhost:8080/"
        },
        "id": "kz7efBm5lxQ0",
        "outputId": "4be0a9e4-7c4d-4009-aebb-51172ac21525"
      },
      "execution_count": 11,
      "outputs": [
        {
          "output_type": "stream",
          "name": "stdout",
          "text": [
            "Enter sorted numbers separated by space: 2 3 4 \n",
            "Enter the number to search: 4\n",
            "Found at index 2\n"
          ]
        }
      ]
    },
    {
      "cell_type": "code",
      "source": [
        "lst1 = list(map(int, input(\"Enter first list numbers separated by space: \").split()))\n",
        "lst2 = list(map(int, input(\"Enter second list numbers separated by space: \").split()))\n",
        "intersection = list(set(lst1) & set(lst2))\n",
        "print(intersection)\n"
      ],
      "metadata": {
        "colab": {
          "base_uri": "https://localhost:8080/"
        },
        "id": "w5CXPj69l4gj",
        "outputId": "809f9366-7644-4f86-b59c-8bc92f81f8fb"
      },
      "execution_count": 12,
      "outputs": [
        {
          "output_type": "stream",
          "name": "stdout",
          "text": [
            "Enter first list numbers separated by space: 1 2 3 4\n",
            "Enter second list numbers separated by space: 5 6 7 8\n",
            "[]\n"
          ]
        }
      ]
    },
    {
      "cell_type": "code",
      "source": [
        "nested_list = eval(input(\"Enter nested list: \"))\n",
        "flat_list = []\n",
        "\n",
        "def flatten(lst):\n",
        "    for i in lst:\n",
        "        if isinstance(i, list):\n",
        "            flatten(i)\n",
        "        else:\n",
        "            flat_list.append(i)\n",
        "\n",
        "flatten(nested_list)\n",
        "print(flat_list)"
      ],
      "metadata": {
        "colab": {
          "base_uri": "https://localhost:8080/"
        },
        "id": "g_DExAikmAg_",
        "outputId": "33e29542-a006-4678-84b3-a8b1d32f7093"
      },
      "execution_count": 14,
      "outputs": [
        {
          "output_type": "stream",
          "name": "stdout",
          "text": [
            "Enter nested list: [1, 2, [3, 4], [5, [6, 7]], 8]\n",
            "[1, 2, 3, 4, 5, 6, 7, 8]\n"
          ]
        }
      ]
    },
    {
      "cell_type": "code",
      "source": [
        "start = int(input(\"Enter start of range: \"))\n",
        "end = int(input(\"Enter end of range: \"))\n",
        "\n",
        "for num in range(start, end + 1):\n",
        "    digits = list(map(int, str(num)))\n",
        "    power = len(digits)\n",
        "    if sum(d ** power for d in digits) == num:\n",
        "        print(num)\n"
      ],
      "metadata": {
        "colab": {
          "base_uri": "https://localhost:8080/"
        },
        "id": "DA1Gy1CYmK-0",
        "outputId": "09c7b690-5a16-45f0-b039-eb31b045b7f4"
      },
      "execution_count": 15,
      "outputs": [
        {
          "output_type": "stream",
          "name": "stdout",
          "text": [
            "Enter start of range: 1\n",
            "Enter end of range: 5\n",
            "1\n",
            "2\n",
            "3\n",
            "4\n",
            "5\n"
          ]
        }
      ]
    },
    {
      "cell_type": "code",
      "source": [
        "s = input(\"Enter a string: \")\n",
        "words = s.split()\n",
        "print(len(words))\n"
      ],
      "metadata": {
        "colab": {
          "base_uri": "https://localhost:8080/"
        },
        "id": "gFUUUCi1mRFz",
        "outputId": "854dc47b-89c5-41a2-ee37-c0df2b9b3d4b"
      },
      "execution_count": 16,
      "outputs": [
        {
          "output_type": "stream",
          "name": "stdout",
          "text": [
            "Enter a string: Tanishk\n",
            "1\n"
          ]
        }
      ]
    },
    {
      "cell_type": "code",
      "source": [
        "s = input(\"Enter a string: \")\n",
        "result = \"\"\n",
        "count = 1\n",
        "\n",
        "for i in range(1, len(s) + 1):\n",
        "    if i < len(s) and s[i] == s[i - 1]:\n",
        "        count += 1\n",
        "    else:\n",
        "        result += s[i - 1] + str(count)\n",
        "        count = 1\n",
        "\n",
        "print(result)"
      ],
      "metadata": {
        "colab": {
          "base_uri": "https://localhost:8080/"
        },
        "id": "0wio5KePmbJ7",
        "outputId": "5f6aedc1-97c7-46b2-8901-26aef7b738a0"
      },
      "execution_count": 17,
      "outputs": [
        {
          "output_type": "stream",
          "name": "stdout",
          "text": [
            "Enter a string: Tanishk\n",
            "T1a1n1i1s1h1k1\n"
          ]
        }
      ]
    },
    {
      "cell_type": "code",
      "source": [
        "n = int(input(\"Enter number of rows: \"))\n",
        "for i in range(n):\n",
        "    row = [1]\n",
        "    for j in range(1, i):\n",
        "        row.append(prev_row[j-1] + prev_row[j])\n",
        "    if i > 0:\n",
        "        row.append(1)\n",
        "    print(*row)\n",
        "    prev_row = row"
      ],
      "metadata": {
        "colab": {
          "base_uri": "https://localhost:8080/"
        },
        "id": "HGHlgA2bmhij",
        "outputId": "7aff6066-e5a4-47a6-ec97-8fd88454f244"
      },
      "execution_count": 18,
      "outputs": [
        {
          "output_type": "stream",
          "name": "stdout",
          "text": [
            "Enter number of rows: 2\n",
            "1\n",
            "1 1\n"
          ]
        }
      ]
    },
    {
      "cell_type": "code",
      "source": [
        "lst = list(map(int, input(\"Enter numbers: \").split()))\n",
        "counts = {}\n",
        "for num in lst:\n",
        "    counts[num] = counts.get(num, 0) + 1\n",
        "\n",
        "majority = None\n",
        "for num, count in counts.items():\n",
        "    if count > len(lst) // 2:\n",
        "        majority = num\n",
        "        break\n",
        "\n",
        "if majority is not None:\n",
        "    print(majority)\n",
        "else:\n",
        "    print(\"No majority element\")\n"
      ],
      "metadata": {
        "colab": {
          "base_uri": "https://localhost:8080/"
        },
        "id": "C7fE4SzsmnF0",
        "outputId": "11f226e3-f57b-4718-9717-a383ef2b2107"
      },
      "execution_count": 20,
      "outputs": [
        {
          "output_type": "stream",
          "name": "stdout",
          "text": [
            "Enter numbers: 1 2 3 4\n",
            "No majority element\n"
          ]
        }
      ]
    },
    {
      "cell_type": "code",
      "source": [
        "lst = list(map(int, input(\"Enter numbers: \").split()))\n",
        "result = [x for x in lst if x != 0] + [0] * lst.count(0)\n",
        "print(result)\n"
      ],
      "metadata": {
        "colab": {
          "base_uri": "https://localhost:8080/"
        },
        "id": "2gl2X881muYE",
        "outputId": "89a287c3-70ef-41c8-f452-ceded47ad243"
      },
      "execution_count": 22,
      "outputs": [
        {
          "output_type": "stream",
          "name": "stdout",
          "text": [
            "Enter numbers: 1 2 3 4\n",
            "[1, 2, 3, 4]\n"
          ]
        }
      ]
    },
    {
      "cell_type": "code",
      "source": [
        "stack = []\n",
        "\n",
        "while True:\n",
        "    op = input(\"Enter operation (push/pop/quit): \")\n",
        "    if op == \"push\":\n",
        "        val = input(\"Enter value to push: \")\n",
        "        stack.append(val)\n",
        "        print(stack)\n",
        "    elif op == \"pop\":\n",
        "        if stack:\n",
        "            print(\"Popped:\", stack.pop())\n",
        "            print(stack)\n",
        "        else:\n",
        "            print(\"Stack is empty\")\n",
        "    elif op == \"quit\":\n",
        "        break\n",
        "    else:\n",
        "        print(\"Invalid operation\")\n"
      ],
      "metadata": {
        "colab": {
          "base_uri": "https://localhost:8080/"
        },
        "id": "jNRBQq_sm1HK",
        "outputId": "4f7a4114-1b10-41ae-b4b7-c3e0579c4b6d"
      },
      "execution_count": null,
      "outputs": [
        {
          "output_type": "stream",
          "name": "stdout",
          "text": [
            "Enter operation (push/pop/quit): Push\n",
            "Invalid operation\n",
            "Enter operation (push/pop/quit): push\n",
            "Enter value to push: 2\n",
            "['2']\n",
            "Enter operation (push/pop/quit): push\n",
            "Enter value to push: 4\n",
            "['2', '4']\n",
            "Enter operation (push/pop/quit): pop\n",
            "Popped: 4\n",
            "['2']\n",
            "Enter operation (push/pop/quit): 2\n",
            "Invalid operation\n"
          ]
        }
      ]
    },
    {
      "cell_type": "code",
      "source": [
        "lst = list(map(int, input(\"Enter list elements \").split()))\n",
        "k = int(input(\"Enter number of rotations: \"))\n",
        "k = k % len(lst)\n",
        "rotated = lst[-k:] + lst[:-k]\n",
        "print(rotated)\n"
      ],
      "metadata": {
        "id": "QwC7EKwdm-55"
      },
      "execution_count": null,
      "outputs": []
    },
    {
      "cell_type": "code",
      "source": [
        "lst = list(map(int, input(\"Enter list elements: \").split()))\n",
        "if all(lst[i] <= lst[i+1] for i in range(len(lst)-1)):\n",
        "    print(\"List is sorted\")\n",
        "else:\n",
        "    print(\"List is not sorted\")\n"
      ],
      "metadata": {
        "id": "y407n3FIoljH"
      },
      "execution_count": null,
      "outputs": []
    }
  ]
}